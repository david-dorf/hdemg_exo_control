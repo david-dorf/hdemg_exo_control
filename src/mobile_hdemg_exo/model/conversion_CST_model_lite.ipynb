{
  "nbformat": 4,
  "nbformat_minor": 0,
  "metadata": {
    "colab": {
      "provenance": [],
      "gpuType": "T4"
    },
    "kernelspec": {
      "name": "python3",
      "display_name": "Python 3"
    },
    "language_info": {
      "name": "python"
    },
    "accelerator": "GPU"
  },
  "cells": [
    {
      "cell_type": "code",
      "execution_count": null,
      "metadata": {
        "id": "VFmlCJxoqFXb"
      },
      "outputs": [],
      "source": [
        "import tensorflow as tf\n",
        "from tensorflow.keras.models import load_model\n",
        "\n",
        "# load model with cuostmized metrics\n",
        "def load_model_custom(model_name):\n",
        "    model = load_model(model_name, custom_objects={\"f1_m\": f1_m})\n",
        "    return model"
      ]
    },
    {
      "cell_type": "code",
      "source": [
        "from google.colab import drive\n",
        "drive.mount('/content/gdrive')"
      ],
      "metadata": {
        "colab": {
          "base_uri": "https://localhost:8080/"
        },
        "id": "HE4fhM3eqKVH",
        "outputId": "e9b7aeb4-02b1-4748-9d2a-4184af1f7366"
      },
      "execution_count": null,
      "outputs": [
        {
          "output_type": "stream",
          "name": "stdout",
          "text": [
            "Drive already mounted at /content/gdrive; to attempt to forcibly remount, call drive.mount(\"/content/gdrive\", force_remount=True).\n"
          ]
        }
      ]
    },
    {
      "cell_type": "code",
      "source": [
        "path = \"/content/gdrive/MyDrive/\"\n",
        "path_model = path + \"Yue_Net/best_model_cnn-allrun5_c8b_mix4-SG0-ST20-WS40-MU[0, 1, 2, 3]_1644222946_f.h5\""
      ],
      "metadata": {
        "id": "05EmIL7PqZt8"
      },
      "execution_count": null,
      "outputs": []
    },
    {
      "cell_type": "code",
      "source": [
        "# calculate f1 score\n",
        "def f1_m(y_true, y_pred):\n",
        "    #     precision = precision_m(y_true, y_pred)\n",
        "    #     recall = recall_m(y_true, y_pred)\n",
        "    y_pred_binary = tf.where(y_pred >= 0.5, 1., 0.)\n",
        "    true_positives = K.sum(K.round(K.clip(y_true * y_pred_binary, 0, 1)))\n",
        "    possible_positives = K.sum(K.round(K.clip(y_true, 0, 1)))\n",
        "    predicted_positives = K.sum(K.round(K.clip(y_pred_binary, 0, 1)))\n",
        "\n",
        "    precision = true_positives / (predicted_positives + K.epsilon())\n",
        "    recall = true_positives / (possible_positives + K.epsilon())\n",
        "    return 2 * ((precision * recall) / (precision + recall + K.epsilon()))"
      ],
      "metadata": {
        "id": "ND5edmowquQ9"
      },
      "execution_count": null,
      "outputs": []
    },
    {
      "cell_type": "code",
      "source": [
        "model = load_model_custom(path_model)"
      ],
      "metadata": {
        "id": "6VlxtrQdqk70"
      },
      "execution_count": null,
      "outputs": []
    },
    {
      "cell_type": "code",
      "source": [
        "model.summary()"
      ],
      "metadata": {
        "colab": {
          "base_uri": "https://localhost:8080/"
        },
        "id": "Z6n60OQ6sfCi",
        "outputId": "3032a7a9-3199-45a9-ece2-6aeab811b1f0"
      },
      "execution_count": null,
      "outputs": [
        {
          "output_type": "stream",
          "name": "stdout",
          "text": [
            "Model: \"model_3\"\n",
            "__________________________________________________________________________________________________\n",
            " Layer (type)                   Output Shape         Param #     Connected to                     \n",
            "==================================================================================================\n",
            " EMG (InputLayer)               [(None, 40, 64)]     0           []                               \n",
            "                                                                                                  \n",
            " conv1d_12 (Conv1D)             (None, 38, 128)      24704       ['EMG[0][0]']                    \n",
            "                                                                                                  \n",
            " conv1d_13 (Conv1D)             (None, 36, 128)      49280       ['conv1d_12[0][0]']              \n",
            "                                                                                                  \n",
            " max_pooling1d_6 (MaxPooling1D)  (None, 18, 128)     0           ['conv1d_13[0][0]']              \n",
            "                                                                                                  \n",
            " dropout_21 (Dropout)           (None, 18, 128)      0           ['max_pooling1d_6[0][0]']        \n",
            "                                                                                                  \n",
            " conv1d_14 (Conv1D)             (None, 16, 128)      49280       ['dropout_21[0][0]']             \n",
            "                                                                                                  \n",
            " conv1d_15 (Conv1D)             (None, 14, 64)       24640       ['conv1d_14[0][0]']              \n",
            "                                                                                                  \n",
            " max_pooling1d_7 (MaxPooling1D)  (None, 7, 64)       0           ['conv1d_15[0][0]']              \n",
            "                                                                                                  \n",
            " dropout_22 (Dropout)           (None, 7, 64)        0           ['max_pooling1d_7[0][0]']        \n",
            "                                                                                                  \n",
            " flatten_10 (Flatten)           (None, 448)          0           ['dropout_22[0][0]']             \n",
            "                                                                                                  \n",
            " dense_31 (Dense)               (None, 256)          114944      ['flatten_10[0][0]']             \n",
            "                                                                                                  \n",
            " dense_32 (Dense)               (None, 256)          114944      ['flatten_10[0][0]']             \n",
            "                                                                                                  \n",
            " dense_33 (Dense)               (None, 256)          114944      ['flatten_10[0][0]']             \n",
            "                                                                                                  \n",
            " dense_34 (Dense)               (None, 256)          114944      ['flatten_10[0][0]']             \n",
            "                                                                                                  \n",
            " dropout_23 (Dropout)           (None, 256)          0           ['dense_31[0][0]']               \n",
            "                                                                                                  \n",
            " dropout_24 (Dropout)           (None, 256)          0           ['dense_32[0][0]']               \n",
            "                                                                                                  \n",
            " dropout_25 (Dropout)           (None, 256)          0           ['dense_33[0][0]']               \n",
            "                                                                                                  \n",
            " dropout_26 (Dropout)           (None, 256)          0           ['dense_34[0][0]']               \n",
            "                                                                                                  \n",
            " output_1 (Dense)               (None, 1)            257         ['dropout_23[0][0]']             \n",
            "                                                                                                  \n",
            " output_2 (Dense)               (None, 1)            257         ['dropout_24[0][0]']             \n",
            "                                                                                                  \n",
            " output_3 (Dense)               (None, 1)            257         ['dropout_25[0][0]']             \n",
            "                                                                                                  \n",
            " output_4 (Dense)               (None, 1)            257         ['dropout_26[0][0]']             \n",
            "                                                                                                  \n",
            "==================================================================================================\n",
            "Total params: 608,708\n",
            "Trainable params: 608,708\n",
            "Non-trainable params: 0\n",
            "__________________________________________________________________________________________________\n"
          ]
        }
      ]
    },
    {
      "cell_type": "code",
      "source": [
        "# dummy X_test\n",
        "X_test = tf.ones((100,40,64))"
      ],
      "metadata": {
        "id": "4X2wNgs7snZh"
      },
      "execution_count": null,
      "outputs": []
    },
    {
      "cell_type": "code",
      "source": [
        "# convert model to tflite\n",
        "converter = tf.lite.TFLiteConverter.from_keras_model(model)\n",
        "tflite_model = converter.convert()"
      ],
      "metadata": {
        "colab": {
          "base_uri": "https://localhost:8080/"
        },
        "id": "xLAsIwvvqnju",
        "outputId": "3de96e0d-2e37-4eb5-9a7e-dd0c87e84c01"
      },
      "execution_count": null,
      "outputs": [
        {
          "output_type": "stream",
          "name": "stderr",
          "text": [
            "WARNING:absl:Function `_wrapped_model` contains input name(s) EMG with unsupported characters which will be renamed to emg in the SavedModel.\n",
            "WARNING:absl:Found untraced functions such as _jit_compiled_convolution_op, _jit_compiled_convolution_op, _jit_compiled_convolution_op, _jit_compiled_convolution_op while saving (showing 4 of 4). These functions will not be directly callable after loading.\n"
          ]
        }
      ]
    },
    {
      "cell_type": "code",
      "source": [
        "import numpy as np"
      ],
      "metadata": {
        "id": "Oxucm52Ysw7K"
      },
      "execution_count": null,
      "outputs": []
    },
    {
      "cell_type": "code",
      "source": [
        "# Run the model with TensorFlow to get expected results.\n",
        "TEST_CASES = 100\n",
        "\n",
        "# Run the model with TensorFlow Lite\n",
        "interpreter = tf.lite.Interpreter(model_content=tflite_model)\n",
        "interpreter.allocate_tensors()\n",
        "input_details = interpreter.get_input_details()\n",
        "output_details = interpreter.get_output_details()\n",
        "\n",
        "for i in range(TEST_CASES):\n",
        "  expected = model.predict(np.expand_dims(X_test[i:i+1][0],axis=0))\n",
        "  interpreter.set_tensor(input_details[0][\"index\"], np.array(np.expand_dims(X_test[i:i+1][0],axis=0),dtype=np.float32))\n",
        "  interpreter.invoke()\n",
        "  result_1 = interpreter.get_tensor(output_details[0][\"index\"])\n",
        "  result_2 = interpreter.get_tensor(output_details[1][\"index\"])\n",
        "  result_3 = interpreter.get_tensor(output_details[2][\"index\"])\n",
        "  result_4 = interpreter.get_tensor(output_details[3][\"index\"])\n",
        "\n",
        "  result = [result_2,result_4,result_3,result_1]\n",
        "\n",
        "  # Assert if the result of TFLite model is consistent with the TF model.\n",
        "  np.testing.assert_almost_equal(expected, result, decimal=5)\n",
        "  print(\"Done. The result of TensorFlow matches the result of TensorFlow Lite.\")\n",
        "\n",
        "  # Please note: TfLite fused Lstm kernel is stateful, so we need to reset\n",
        "  # the states.\n",
        "  # Clean up internal states.\n",
        "  interpreter.reset_all_variables()"
      ],
      "metadata": {
        "colab": {
          "base_uri": "https://localhost:8080/"
        },
        "id": "H-SvudNnrLX7",
        "outputId": "c16088f7-5c9c-4a1f-a6e2-8498db394624"
      },
      "execution_count": null,
      "outputs": [
        {
          "output_type": "stream",
          "name": "stdout",
          "text": [
            "1/1 [==============================] - 9s 9s/step\n",
            "Done. The result of TensorFlow matches the result of TensorFlow Lite.\n",
            "1/1 [==============================] - 0s 35ms/step\n",
            "Done. The result of TensorFlow matches the result of TensorFlow Lite.\n",
            "1/1 [==============================] - 0s 35ms/step\n",
            "Done. The result of TensorFlow matches the result of TensorFlow Lite.\n",
            "1/1 [==============================] - 0s 28ms/step\n",
            "Done. The result of TensorFlow matches the result of TensorFlow Lite.\n",
            "1/1 [==============================] - 0s 29ms/step\n",
            "Done. The result of TensorFlow matches the result of TensorFlow Lite.\n",
            "1/1 [==============================] - 0s 32ms/step\n",
            "Done. The result of TensorFlow matches the result of TensorFlow Lite.\n",
            "1/1 [==============================] - 0s 36ms/step\n",
            "Done. The result of TensorFlow matches the result of TensorFlow Lite.\n",
            "1/1 [==============================] - 0s 37ms/step\n",
            "Done. The result of TensorFlow matches the result of TensorFlow Lite.\n",
            "1/1 [==============================] - 0s 39ms/step\n",
            "Done. The result of TensorFlow matches the result of TensorFlow Lite.\n",
            "1/1 [==============================] - 0s 33ms/step\n",
            "Done. The result of TensorFlow matches the result of TensorFlow Lite.\n",
            "1/1 [==============================] - 0s 30ms/step\n",
            "Done. The result of TensorFlow matches the result of TensorFlow Lite.\n",
            "1/1 [==============================] - 0s 31ms/step\n",
            "Done. The result of TensorFlow matches the result of TensorFlow Lite.\n",
            "1/1 [==============================] - 0s 31ms/step\n",
            "Done. The result of TensorFlow matches the result of TensorFlow Lite.\n",
            "1/1 [==============================] - 0s 29ms/step\n",
            "Done. The result of TensorFlow matches the result of TensorFlow Lite.\n",
            "1/1 [==============================] - 0s 29ms/step\n",
            "Done. The result of TensorFlow matches the result of TensorFlow Lite.\n",
            "1/1 [==============================] - 0s 31ms/step\n",
            "Done. The result of TensorFlow matches the result of TensorFlow Lite.\n",
            "1/1 [==============================] - 0s 34ms/step\n",
            "Done. The result of TensorFlow matches the result of TensorFlow Lite.\n",
            "1/1 [==============================] - 0s 29ms/step\n",
            "Done. The result of TensorFlow matches the result of TensorFlow Lite.\n",
            "1/1 [==============================] - 0s 32ms/step\n",
            "Done. The result of TensorFlow matches the result of TensorFlow Lite.\n",
            "1/1 [==============================] - 0s 35ms/step\n",
            "Done. The result of TensorFlow matches the result of TensorFlow Lite.\n",
            "1/1 [==============================] - 0s 21ms/step\n",
            "Done. The result of TensorFlow matches the result of TensorFlow Lite.\n",
            "1/1 [==============================] - 0s 22ms/step\n",
            "Done. The result of TensorFlow matches the result of TensorFlow Lite.\n",
            "1/1 [==============================] - 0s 21ms/step\n",
            "Done. The result of TensorFlow matches the result of TensorFlow Lite.\n",
            "1/1 [==============================] - 0s 23ms/step\n",
            "Done. The result of TensorFlow matches the result of TensorFlow Lite.\n",
            "1/1 [==============================] - 0s 23ms/step\n",
            "Done. The result of TensorFlow matches the result of TensorFlow Lite.\n",
            "1/1 [==============================] - 0s 22ms/step\n",
            "Done. The result of TensorFlow matches the result of TensorFlow Lite.\n",
            "1/1 [==============================] - 0s 26ms/step\n",
            "Done. The result of TensorFlow matches the result of TensorFlow Lite.\n",
            "1/1 [==============================] - 0s 24ms/step\n",
            "Done. The result of TensorFlow matches the result of TensorFlow Lite.\n",
            "1/1 [==============================] - 0s 25ms/step\n",
            "Done. The result of TensorFlow matches the result of TensorFlow Lite.\n",
            "1/1 [==============================] - 0s 23ms/step\n",
            "Done. The result of TensorFlow matches the result of TensorFlow Lite.\n",
            "1/1 [==============================] - 0s 20ms/step\n",
            "Done. The result of TensorFlow matches the result of TensorFlow Lite.\n",
            "1/1 [==============================] - 0s 21ms/step\n",
            "Done. The result of TensorFlow matches the result of TensorFlow Lite.\n",
            "1/1 [==============================] - 0s 19ms/step\n",
            "Done. The result of TensorFlow matches the result of TensorFlow Lite.\n",
            "1/1 [==============================] - 0s 19ms/step\n",
            "Done. The result of TensorFlow matches the result of TensorFlow Lite.\n",
            "1/1 [==============================] - 0s 22ms/step\n",
            "Done. The result of TensorFlow matches the result of TensorFlow Lite.\n",
            "1/1 [==============================] - 0s 25ms/step\n",
            "Done. The result of TensorFlow matches the result of TensorFlow Lite.\n",
            "1/1 [==============================] - 0s 24ms/step\n",
            "Done. The result of TensorFlow matches the result of TensorFlow Lite.\n",
            "1/1 [==============================] - 0s 27ms/step\n",
            "Done. The result of TensorFlow matches the result of TensorFlow Lite.\n",
            "1/1 [==============================] - 0s 25ms/step\n",
            "Done. The result of TensorFlow matches the result of TensorFlow Lite.\n",
            "1/1 [==============================] - 0s 25ms/step\n",
            "Done. The result of TensorFlow matches the result of TensorFlow Lite.\n",
            "1/1 [==============================] - 0s 25ms/step\n",
            "Done. The result of TensorFlow matches the result of TensorFlow Lite.\n",
            "1/1 [==============================] - 0s 23ms/step\n",
            "Done. The result of TensorFlow matches the result of TensorFlow Lite.\n",
            "1/1 [==============================] - 0s 24ms/step\n",
            "Done. The result of TensorFlow matches the result of TensorFlow Lite.\n",
            "1/1 [==============================] - 0s 23ms/step\n",
            "Done. The result of TensorFlow matches the result of TensorFlow Lite.\n",
            "1/1 [==============================] - 0s 27ms/step\n",
            "Done. The result of TensorFlow matches the result of TensorFlow Lite.\n",
            "1/1 [==============================] - 0s 23ms/step\n",
            "Done. The result of TensorFlow matches the result of TensorFlow Lite.\n",
            "1/1 [==============================] - 0s 33ms/step\n",
            "Done. The result of TensorFlow matches the result of TensorFlow Lite.\n",
            "1/1 [==============================] - 0s 24ms/step\n",
            "Done. The result of TensorFlow matches the result of TensorFlow Lite.\n",
            "1/1 [==============================] - 0s 31ms/step\n",
            "Done. The result of TensorFlow matches the result of TensorFlow Lite.\n",
            "1/1 [==============================] - 0s 28ms/step\n",
            "Done. The result of TensorFlow matches the result of TensorFlow Lite.\n",
            "1/1 [==============================] - 0s 27ms/step\n",
            "Done. The result of TensorFlow matches the result of TensorFlow Lite.\n",
            "1/1 [==============================] - 0s 24ms/step\n",
            "Done. The result of TensorFlow matches the result of TensorFlow Lite.\n",
            "1/1 [==============================] - 0s 23ms/step\n",
            "Done. The result of TensorFlow matches the result of TensorFlow Lite.\n",
            "1/1 [==============================] - 0s 26ms/step\n",
            "Done. The result of TensorFlow matches the result of TensorFlow Lite.\n",
            "1/1 [==============================] - 0s 22ms/step\n",
            "Done. The result of TensorFlow matches the result of TensorFlow Lite.\n",
            "1/1 [==============================] - 0s 19ms/step\n",
            "Done. The result of TensorFlow matches the result of TensorFlow Lite.\n",
            "1/1 [==============================] - 0s 23ms/step\n",
            "Done. The result of TensorFlow matches the result of TensorFlow Lite.\n",
            "1/1 [==============================] - 0s 19ms/step\n",
            "Done. The result of TensorFlow matches the result of TensorFlow Lite.\n",
            "1/1 [==============================] - 0s 19ms/step\n",
            "Done. The result of TensorFlow matches the result of TensorFlow Lite.\n",
            "1/1 [==============================] - 0s 22ms/step\n",
            "Done. The result of TensorFlow matches the result of TensorFlow Lite.\n",
            "1/1 [==============================] - 0s 22ms/step\n",
            "Done. The result of TensorFlow matches the result of TensorFlow Lite.\n",
            "1/1 [==============================] - 0s 20ms/step\n",
            "Done. The result of TensorFlow matches the result of TensorFlow Lite.\n",
            "1/1 [==============================] - 0s 22ms/step\n",
            "Done. The result of TensorFlow matches the result of TensorFlow Lite.\n",
            "1/1 [==============================] - 0s 28ms/step\n",
            "Done. The result of TensorFlow matches the result of TensorFlow Lite.\n",
            "1/1 [==============================] - 0s 24ms/step\n",
            "Done. The result of TensorFlow matches the result of TensorFlow Lite.\n",
            "1/1 [==============================] - 0s 22ms/step\n",
            "Done. The result of TensorFlow matches the result of TensorFlow Lite.\n",
            "1/1 [==============================] - 0s 19ms/step\n",
            "Done. The result of TensorFlow matches the result of TensorFlow Lite.\n",
            "1/1 [==============================] - 0s 20ms/step\n",
            "Done. The result of TensorFlow matches the result of TensorFlow Lite.\n",
            "1/1 [==============================] - 0s 22ms/step\n",
            "Done. The result of TensorFlow matches the result of TensorFlow Lite.\n",
            "1/1 [==============================] - 0s 19ms/step\n",
            "Done. The result of TensorFlow matches the result of TensorFlow Lite.\n",
            "1/1 [==============================] - 0s 20ms/step\n",
            "Done. The result of TensorFlow matches the result of TensorFlow Lite.\n",
            "1/1 [==============================] - 0s 23ms/step\n",
            "Done. The result of TensorFlow matches the result of TensorFlow Lite.\n",
            "1/1 [==============================] - 0s 19ms/step\n",
            "Done. The result of TensorFlow matches the result of TensorFlow Lite.\n",
            "1/1 [==============================] - 0s 18ms/step\n",
            "Done. The result of TensorFlow matches the result of TensorFlow Lite.\n",
            "1/1 [==============================] - 0s 19ms/step\n",
            "Done. The result of TensorFlow matches the result of TensorFlow Lite.\n",
            "1/1 [==============================] - 0s 19ms/step\n",
            "Done. The result of TensorFlow matches the result of TensorFlow Lite.\n",
            "1/1 [==============================] - 0s 19ms/step\n",
            "Done. The result of TensorFlow matches the result of TensorFlow Lite.\n",
            "1/1 [==============================] - 0s 20ms/step\n",
            "Done. The result of TensorFlow matches the result of TensorFlow Lite.\n",
            "1/1 [==============================] - 0s 19ms/step\n",
            "Done. The result of TensorFlow matches the result of TensorFlow Lite.\n",
            "1/1 [==============================] - 0s 20ms/step\n",
            "Done. The result of TensorFlow matches the result of TensorFlow Lite.\n",
            "1/1 [==============================] - 0s 19ms/step\n",
            "Done. The result of TensorFlow matches the result of TensorFlow Lite.\n",
            "1/1 [==============================] - 0s 22ms/step\n",
            "Done. The result of TensorFlow matches the result of TensorFlow Lite.\n",
            "1/1 [==============================] - 0s 21ms/step\n",
            "Done. The result of TensorFlow matches the result of TensorFlow Lite.\n",
            "1/1 [==============================] - 0s 19ms/step\n",
            "Done. The result of TensorFlow matches the result of TensorFlow Lite.\n",
            "1/1 [==============================] - 0s 27ms/step\n",
            "Done. The result of TensorFlow matches the result of TensorFlow Lite.\n",
            "1/1 [==============================] - 0s 21ms/step\n",
            "Done. The result of TensorFlow matches the result of TensorFlow Lite.\n",
            "1/1 [==============================] - 0s 23ms/step\n",
            "Done. The result of TensorFlow matches the result of TensorFlow Lite.\n",
            "1/1 [==============================] - 0s 22ms/step\n",
            "Done. The result of TensorFlow matches the result of TensorFlow Lite.\n",
            "1/1 [==============================] - 0s 21ms/step\n",
            "Done. The result of TensorFlow matches the result of TensorFlow Lite.\n",
            "1/1 [==============================] - 0s 19ms/step\n",
            "Done. The result of TensorFlow matches the result of TensorFlow Lite.\n",
            "1/1 [==============================] - 0s 19ms/step\n",
            "Done. The result of TensorFlow matches the result of TensorFlow Lite.\n",
            "1/1 [==============================] - 0s 21ms/step\n",
            "Done. The result of TensorFlow matches the result of TensorFlow Lite.\n",
            "1/1 [==============================] - 0s 19ms/step\n",
            "Done. The result of TensorFlow matches the result of TensorFlow Lite.\n",
            "1/1 [==============================] - 0s 22ms/step\n",
            "Done. The result of TensorFlow matches the result of TensorFlow Lite.\n",
            "1/1 [==============================] - 0s 23ms/step\n",
            "Done. The result of TensorFlow matches the result of TensorFlow Lite.\n",
            "1/1 [==============================] - 0s 22ms/step\n",
            "Done. The result of TensorFlow matches the result of TensorFlow Lite.\n",
            "1/1 [==============================] - 0s 22ms/step\n",
            "Done. The result of TensorFlow matches the result of TensorFlow Lite.\n",
            "1/1 [==============================] - 0s 22ms/step\n",
            "Done. The result of TensorFlow matches the result of TensorFlow Lite.\n",
            "1/1 [==============================] - 0s 20ms/step\n",
            "Done. The result of TensorFlow matches the result of TensorFlow Lite.\n",
            "1/1 [==============================] - 0s 23ms/step\n",
            "Done. The result of TensorFlow matches the result of TensorFlow Lite.\n"
          ]
        }
      ]
    },
    {
      "cell_type": "code",
      "source": [
        "# used to reorder the tflite outputs:\n",
        "expected"
      ],
      "metadata": {
        "colab": {
          "base_uri": "https://localhost:8080/"
        },
        "id": "3myoqAUSsv9L",
        "outputId": "bd07810f-d6c5-4a82-8437-667304ad15be"
      },
      "execution_count": null,
      "outputs": [
        {
          "output_type": "execute_result",
          "data": {
            "text/plain": [
              "[array([[0.5679825]], dtype=float32),\n",
              " array([[0.5114401]], dtype=float32),\n",
              " array([[0.41835022]], dtype=float32),\n",
              " array([[0.38279408]], dtype=float32)]"
            ]
          },
          "metadata": {},
          "execution_count": 16
        }
      ]
    },
    {
      "cell_type": "code",
      "source": [
        "result"
      ],
      "metadata": {
        "colab": {
          "base_uri": "https://localhost:8080/"
        },
        "id": "PLKIIMyLs6DM",
        "outputId": "fe6bf6d5-0c61-466b-c2be-2ebd08bced5c"
      },
      "execution_count": null,
      "outputs": [
        {
          "output_type": "execute_result",
          "data": {
            "text/plain": [
              "[array([[0.5679825]], dtype=float32),\n",
              " array([[0.5114401]], dtype=float32),\n",
              " array([[0.41835025]], dtype=float32),\n",
              " array([[0.38279408]], dtype=float32)]"
            ]
          },
          "metadata": {},
          "execution_count": 17
        }
      ]
    },
    {
      "cell_type": "code",
      "source": [
        "expected = model.predict(np.expand_dims(X_test[i:i+1][0],axis=0))\n"
      ],
      "metadata": {
        "colab": {
          "base_uri": "https://localhost:8080/"
        },
        "id": "CIgCu2OWs6wF",
        "outputId": "891c7337-54a5-4d11-cc1e-ee9e73db8b5a"
      },
      "execution_count": null,
      "outputs": [
        {
          "output_type": "stream",
          "name": "stdout",
          "text": [
            "1/1 [==============================] - 0s 20ms/step\n"
          ]
        }
      ]
    },
    {
      "cell_type": "code",
      "source": [
        "expected"
      ],
      "metadata": {
        "colab": {
          "base_uri": "https://localhost:8080/"
        },
        "id": "bHPSssNJuRNA",
        "outputId": "55702c78-1eb5-4ee5-9604-dff5e4951319"
      },
      "execution_count": null,
      "outputs": [
        {
          "output_type": "execute_result",
          "data": {
            "text/plain": [
              "[array([[0.5679825]], dtype=float32),\n",
              " array([[0.5114401]], dtype=float32),\n",
              " array([[0.41835022]], dtype=float32),\n",
              " array([[0.38279408]], dtype=float32)]"
            ]
          },
          "metadata": {},
          "execution_count": 19
        }
      ]
    },
    {
      "cell_type": "code",
      "source": [
        "interpreter"
      ],
      "metadata": {
        "colab": {
          "base_uri": "https://localhost:8080/"
        },
        "id": "RHrw-xqyuSL4",
        "outputId": "207fcffa-309e-4c1c-8caa-4d1c2a5ff10f"
      },
      "execution_count": null,
      "outputs": [
        {
          "output_type": "execute_result",
          "data": {
            "text/plain": [
              "<tensorflow.lite.python.interpreter.Interpreter at 0x7d3b3bfcc760>"
            ]
          },
          "metadata": {},
          "execution_count": 20
        }
      ]
    },
    {
      "cell_type": "code",
      "source": [
        "interpreter.get_output_details()[0]"
      ],
      "metadata": {
        "colab": {
          "base_uri": "https://localhost:8080/"
        },
        "id": "bBdJjt-fucT0",
        "outputId": "d260b7ec-523f-499a-d8e5-8e06109f9a47"
      },
      "execution_count": null,
      "outputs": [
        {
          "output_type": "execute_result",
          "data": {
            "text/plain": [
              "{'name': 'StatefulPartitionedCall:3',\n",
              " 'index': 62,\n",
              " 'shape': array([1, 1], dtype=int32),\n",
              " 'shape_signature': array([-1,  1], dtype=int32),\n",
              " 'dtype': numpy.float32,\n",
              " 'quantization': (0.0, 0),\n",
              " 'quantization_parameters': {'scales': array([], dtype=float32),\n",
              "  'zero_points': array([], dtype=int32),\n",
              "  'quantized_dimension': 0},\n",
              " 'sparsity_parameters': {}}"
            ]
          },
          "metadata": {},
          "execution_count": 21
        }
      ]
    },
    {
      "cell_type": "code",
      "source": [
        "for i in range(TEST_CASES):\n",
        "  expected = model.predict(np.expand_dims(X_test[i:i+1][0],axis=0))\n",
        "  interpreter.set_tensor(input_details[0][\"index\"], np.array(np.expand_dims(X_test[i:i+1][0],axis=0),dtype=np.float32))\n",
        "  interpreter.invoke()\n",
        "  result_1 = interpreter.get_tensor(output_details[0][\"index\"])\n",
        "  result_2 = interpreter.get_tensor(output_details[1][\"index\"])\n",
        "  result_3 = interpreter.get_tensor(output_details[2][\"index\"])\n",
        "  result_4 = interpreter.get_tensor(output_details[3][\"index\"])\n",
        "\n",
        "  result = [result_2,result_4,result_3,result_1]"
      ],
      "metadata": {
        "id": "yLTE8paPuqT9",
        "colab": {
          "base_uri": "https://localhost:8080/"
        },
        "outputId": "101a30fa-0cba-4fb4-dc29-fd310311d461"
      },
      "execution_count": null,
      "outputs": [
        {
          "output_type": "stream",
          "name": "stdout",
          "text": [
            "1/1 [==============================] - 0s 23ms/step\n",
            "1/1 [==============================] - 0s 20ms/step\n",
            "1/1 [==============================] - 0s 19ms/step\n",
            "1/1 [==============================] - 0s 26ms/step\n",
            "1/1 [==============================] - 0s 19ms/step\n",
            "1/1 [==============================] - 0s 19ms/step\n",
            "1/1 [==============================] - 0s 20ms/step\n",
            "1/1 [==============================] - 0s 21ms/step\n",
            "1/1 [==============================] - 0s 27ms/step\n",
            "1/1 [==============================] - 0s 19ms/step\n",
            "1/1 [==============================] - 0s 21ms/step\n",
            "1/1 [==============================] - 0s 20ms/step\n",
            "1/1 [==============================] - 0s 20ms/step\n",
            "1/1 [==============================] - 0s 19ms/step\n",
            "1/1 [==============================] - 0s 20ms/step\n",
            "1/1 [==============================] - 0s 22ms/step\n",
            "1/1 [==============================] - 0s 23ms/step\n",
            "1/1 [==============================] - 0s 20ms/step\n",
            "1/1 [==============================] - 0s 20ms/step\n",
            "1/1 [==============================] - 0s 20ms/step\n",
            "1/1 [==============================] - 0s 24ms/step\n",
            "1/1 [==============================] - 0s 22ms/step\n",
            "1/1 [==============================] - 0s 23ms/step\n",
            "1/1 [==============================] - 0s 22ms/step\n",
            "1/1 [==============================] - 0s 21ms/step\n",
            "1/1 [==============================] - 0s 20ms/step\n",
            "1/1 [==============================] - 0s 19ms/step\n",
            "1/1 [==============================] - 0s 20ms/step\n",
            "1/1 [==============================] - 0s 22ms/step\n",
            "1/1 [==============================] - 0s 21ms/step\n",
            "1/1 [==============================] - 0s 21ms/step\n",
            "1/1 [==============================] - 0s 20ms/step\n",
            "1/1 [==============================] - 0s 20ms/step\n",
            "1/1 [==============================] - 0s 23ms/step\n",
            "1/1 [==============================] - 0s 21ms/step\n",
            "1/1 [==============================] - 0s 20ms/step\n",
            "1/1 [==============================] - 0s 19ms/step\n",
            "1/1 [==============================] - 0s 22ms/step\n",
            "1/1 [==============================] - 0s 22ms/step\n",
            "1/1 [==============================] - 0s 29ms/step\n",
            "1/1 [==============================] - 0s 21ms/step\n",
            "1/1 [==============================] - 0s 21ms/step\n",
            "1/1 [==============================] - 0s 22ms/step\n",
            "1/1 [==============================] - 0s 20ms/step\n",
            "1/1 [==============================] - 0s 23ms/step\n",
            "1/1 [==============================] - 0s 24ms/step\n",
            "1/1 [==============================] - 0s 23ms/step\n",
            "1/1 [==============================] - 0s 23ms/step\n",
            "1/1 [==============================] - 0s 30ms/step\n",
            "1/1 [==============================] - 0s 19ms/step\n",
            "1/1 [==============================] - 0s 22ms/step\n",
            "1/1 [==============================] - 0s 21ms/step\n",
            "1/1 [==============================] - 0s 20ms/step\n",
            "1/1 [==============================] - 0s 19ms/step\n",
            "1/1 [==============================] - 0s 20ms/step\n",
            "1/1 [==============================] - 0s 23ms/step\n",
            "1/1 [==============================] - 0s 23ms/step\n",
            "1/1 [==============================] - 0s 21ms/step\n",
            "1/1 [==============================] - 0s 21ms/step\n",
            "1/1 [==============================] - 0s 21ms/step\n",
            "1/1 [==============================] - 0s 31ms/step\n",
            "1/1 [==============================] - 0s 21ms/step\n",
            "1/1 [==============================] - 0s 20ms/step\n",
            "1/1 [==============================] - 0s 20ms/step\n",
            "1/1 [==============================] - 0s 24ms/step\n",
            "1/1 [==============================] - 0s 23ms/step\n",
            "1/1 [==============================] - 0s 21ms/step\n",
            "1/1 [==============================] - 0s 24ms/step\n",
            "1/1 [==============================] - 0s 38ms/step\n",
            "1/1 [==============================] - 0s 40ms/step\n",
            "1/1 [==============================] - 0s 30ms/step\n",
            "1/1 [==============================] - 0s 30ms/step\n",
            "1/1 [==============================] - 0s 30ms/step\n",
            "1/1 [==============================] - 0s 43ms/step\n",
            "1/1 [==============================] - 0s 32ms/step\n",
            "1/1 [==============================] - 0s 28ms/step\n",
            "1/1 [==============================] - 0s 29ms/step\n",
            "1/1 [==============================] - 0s 29ms/step\n",
            "1/1 [==============================] - 0s 32ms/step\n",
            "1/1 [==============================] - 0s 30ms/step\n",
            "1/1 [==============================] - 0s 31ms/step\n",
            "1/1 [==============================] - 0s 38ms/step\n",
            "1/1 [==============================] - 0s 30ms/step\n",
            "1/1 [==============================] - 0s 28ms/step\n",
            "1/1 [==============================] - 0s 31ms/step\n",
            "1/1 [==============================] - 0s 29ms/step\n",
            "1/1 [==============================] - 0s 29ms/step\n",
            "1/1 [==============================] - 0s 29ms/step\n",
            "1/1 [==============================] - 0s 27ms/step\n",
            "1/1 [==============================] - 0s 27ms/step\n",
            "1/1 [==============================] - 0s 31ms/step\n",
            "1/1 [==============================] - 0s 29ms/step\n",
            "1/1 [==============================] - 0s 30ms/step\n",
            "1/1 [==============================] - 0s 30ms/step\n",
            "1/1 [==============================] - 0s 28ms/step\n",
            "1/1 [==============================] - 0s 30ms/step\n",
            "1/1 [==============================] - 0s 31ms/step\n",
            "1/1 [==============================] - 0s 27ms/step\n",
            "1/1 [==============================] - 0s 36ms/step\n",
            "1/1 [==============================] - 0s 28ms/step\n"
          ]
        }
      ]
    },
    {
      "cell_type": "code",
      "source": [
        "np.expand_dims(X_test[0],axis=0).shape"
      ],
      "metadata": {
        "colab": {
          "base_uri": "https://localhost:8080/"
        },
        "id": "CGVvput9w4zY",
        "outputId": "46011a32-44ba-4f87-dead-827f769dbae8"
      },
      "execution_count": null,
      "outputs": [
        {
          "output_type": "execute_result",
          "data": {
            "text/plain": [
              "(1, 40, 64)"
            ]
          },
          "metadata": {},
          "execution_count": 23
        }
      ]
    },
    {
      "cell_type": "markdown",
      "source": [
        "# Check time with dummy data:"
      ],
      "metadata": {
        "id": "IPhL5OMgO04C"
      }
    },
    {
      "cell_type": "code",
      "source": [
        "%%timeit\n",
        "expected = model.predict(np.expand_dims(X_test[0:1][0],axis=0),verbose=0)"
      ],
      "metadata": {
        "colab": {
          "base_uri": "https://localhost:8080/"
        },
        "id": "t8Sxbq_jwxb0",
        "outputId": "1c4d6450-591d-4b75-ad78-fb640d0163fb"
      },
      "execution_count": null,
      "outputs": [
        {
          "output_type": "stream",
          "name": "stdout",
          "text": [
            "59.7 ms ± 12.6 ms per loop (mean ± std. dev. of 7 runs, 10 loops each)\n"
          ]
        }
      ]
    },
    {
      "cell_type": "code",
      "source": [
        "%%timeit\n",
        "interpreter.set_tensor(input_details[0][\"index\"], np.array(np.expand_dims(X_test[0:1][0],axis=0),dtype=np.float32))\n",
        "interpreter.invoke()\n",
        "result_1 = interpreter.get_tensor(output_details[0][\"index\"])\n",
        "result_2 = interpreter.get_tensor(output_details[1][\"index\"])\n",
        "result_3 = interpreter.get_tensor(output_details[2][\"index\"])\n",
        "result_4 = interpreter.get_tensor(output_details[3][\"index\"])\n",
        "result = [result_2,result_4,result_3,result_1]"
      ],
      "metadata": {
        "colab": {
          "base_uri": "https://localhost:8080/"
        },
        "id": "I1v7-M9Iw1hC",
        "outputId": "a0c50739-7f7e-4d30-f62f-326bffc63ef9"
      },
      "execution_count": null,
      "outputs": [
        {
          "output_type": "stream",
          "name": "stdout",
          "text": [
            "1.41 ms ± 173 µs per loop (mean ± std. dev. of 7 runs, 1000 loops each)\n"
          ]
        }
      ]
    },
    {
      "cell_type": "markdown",
      "source": [
        "# Check performance with real data"
      ],
      "metadata": {
        "id": "iaZLoxtY1kgb"
      }
    },
    {
      "cell_type": "code",
      "source": [
        "import scipy.io as sio"
      ],
      "metadata": {
        "id": "aYYpkx011jwx"
      },
      "execution_count": null,
      "outputs": []
    },
    {
      "cell_type": "code",
      "source": [
        "trial = '5_50_GM'\n",
        "train_seg = 0\n",
        "test_seg = 2\n",
        "step_size = 20\n",
        "window_size = 120\n",
        "mu = [0, 1, 2, 3]\n",
        "mucnt = len(mu)"
      ],
      "metadata": {
        "id": "yUxI5bVX1j4I"
      },
      "execution_count": null,
      "outputs": []
    },
    {
      "cell_type": "code",
      "source": [
        "def load_data_mat(TR, SG=0, ST=10, MU=1, WS=120, TF=0, MutiSeg=0):\n",
        "    # TR - trial name (e.g., 1_30_GM)\n",
        "    # SG - segment ID (e.g., 0-2)\n",
        "    # ST - step size (5, 10, 20, 30, 40, 50)\n",
        "    # MU - motor unit index (0-N, N is the number)\n",
        "    # WS - window size (e.g., 120)\n",
        "    # TF = 0, no shuffle; TF = 1, shuffle;  0<TF<1, seperate data\n",
        "    # MutiSeg - 0: train with one segment of data; 1: train with two segments of data\n",
        "\n",
        "    seg = [1, 2, 3]\n",
        "    # load train data set\n",
        "    segment = seg[SG]\n",
        "    # construct mat file name based on parameters\n",
        "    prefix = \"{}-SG{}-WS{}-ST{}\".format(TR, segment, WS, ST)\n",
        "    matfile = \"{}.mat\".format(prefix)\n",
        "    #if not path.exists(matfile):\n",
        "\n",
        "    pathstr = path+\"Yue_Net/\"  # data folder for emg\n",
        "    matfile = \"{}{}\".format(pathstr, matfile)\n",
        "\n",
        "    vnames = ['EMGs', 'Spikes']\n",
        "    # load mat file\n",
        "    data = sio.loadmat(matfile, variable_names=vnames)\n",
        "    x_data = data['EMGs']\n",
        "    spikes = data['Spikes']\n",
        "\n",
        "    # load second segment if MutiSeg is 1\n",
        "    if MutiSeg:\n",
        "        seg2 = [2, 3, 1]\n",
        "        segment = seg2[SG]\n",
        "        prefix = \"{}-SG{}-WS{}-ST{}\".format(TR, segment, WS, ST)\n",
        "        matfile = \"{}.mat\".format(prefix);\n",
        "        if not path.exists(matfile):\n",
        "            pathstr = 'D:\\\\emg_data\\\\'\n",
        "            matfile = \"{}{}\".format(pathstr, matfile)\n",
        "        #     print(matfile)\n",
        "        data_2 = sio.loadmat(matfile, variable_names=vnames)\n",
        "        x_data_2 = data_2['EMGs']\n",
        "        spikes_2 = data_2['Spikes']\n",
        "        x_data = np.concatenate((x_data, x_data_2))\n",
        "        spikes = np.concatenate((spikes, spikes_2))\n",
        "\n",
        "    #     x_data.shape\n",
        "    # exactract spikes for given motor units\n",
        "    if type(MU) is list:\n",
        "        y_data = []\n",
        "        for c in MU:\n",
        "            if c < spikes.shape[1]:\n",
        "                y_data.append(spikes[:, c])\n",
        "            else:\n",
        "                y_data.append(spikes[:, -1] * 0)\n",
        "    else:\n",
        "        y_data = []\n",
        "        y_data.append(spikes[:, MU])\n",
        "\n",
        "    ## shuffle the data based on TF flag\n",
        "    y_data = np.array(y_data)\n",
        "    y_data = y_data.T\n",
        "    if TF == 1:\n",
        "        x_data, y_data = tf.random.shuffle(x_data, y_data)\n",
        "    elif TF > 0:\n",
        "        x_data, _, y_data, _ = tf.split(x_data, y_data, test_size=1.0 - TF)\n",
        "    else:\n",
        "        print('no shuffle')\n",
        "    y_data = y_data.T\n",
        "    y_data = list(y_data)\n",
        "\n",
        "    return x_data, y_data"
      ],
      "metadata": {
        "id": "-gbK5RqPxTsw"
      },
      "execution_count": null,
      "outputs": []
    },
    {
      "cell_type": "code",
      "source": [
        "# don't have this specific dataset:\n",
        "x_test, y_test = load_data_mat(TR=trial, SG=test_seg, ST=step_size, WS=window_size, MU=mu)"
      ],
      "metadata": {
        "id": "9W5y6pqYy-KM"
      },
      "execution_count": null,
      "outputs": []
    },
    {
      "cell_type": "code",
      "source": [
        "# test with the specific dataset:\n",
        "trial = \"allex0_c8b_d1L\"\n",
        "test_seg = 2\n",
        "step_size=20\n",
        "window_size=40"
      ],
      "metadata": {
        "id": "Xzj5YRkr7kls"
      },
      "execution_count": null,
      "outputs": []
    },
    {
      "cell_type": "code",
      "source": [
        "# load data:\n",
        "x_test, y_test = load_data_mat(TR=trial, SG=test_seg, ST=step_size, WS=window_size, MU=mu)"
      ],
      "metadata": {
        "colab": {
          "base_uri": "https://localhost:8080/"
        },
        "id": "DAUbKj8l6hTU",
        "outputId": "c68b33a6-d6d3-4b75-cc02-d4e23283c6a7"
      },
      "execution_count": null,
      "outputs": [
        {
          "output_type": "stream",
          "name": "stdout",
          "text": [
            "no shuffle\n"
          ]
        }
      ]
    },
    {
      "cell_type": "code",
      "source": [
        "x_test.shape"
      ],
      "metadata": {
        "colab": {
          "base_uri": "https://localhost:8080/"
        },
        "id": "yBySQSAO7uAl",
        "outputId": "b29cf09a-ce91-48ec-a664-de7b23816a77"
      },
      "execution_count": null,
      "outputs": [
        {
          "output_type": "execute_result",
          "data": {
            "text/plain": [
              "(20471, 40, 64)"
            ]
          },
          "metadata": {},
          "execution_count": 51
        }
      ]
    },
    {
      "cell_type": "code",
      "source": [
        "# Run the model with TensorFlow to get expected results.\n",
        "TEST_CASES = 100\n",
        "\n",
        "# Run the model with TensorFlow Lite\n",
        "interpreter = tf.lite.Interpreter(model_content=tflite_model)\n",
        "interpreter.allocate_tensors()\n",
        "input_details = interpreter.get_input_details()\n",
        "output_details = interpreter.get_output_details()\n",
        "\n",
        "for i in range(TEST_CASES):\n",
        "  j = np.random.randint(0, x_test.shape[0]-1)\n",
        "  expected = model.predict(np.expand_dims(x_test[j:j+1][0],axis=0))\n",
        "  interpreter.set_tensor(input_details[0][\"index\"], np.array(np.expand_dims(x_test[j:j+1][0],axis=0),dtype=np.float32))\n",
        "  interpreter.invoke()\n",
        "  result_1 = interpreter.get_tensor(output_details[0][\"index\"])\n",
        "  result_2 = interpreter.get_tensor(output_details[1][\"index\"])\n",
        "  result_3 = interpreter.get_tensor(output_details[2][\"index\"])\n",
        "  result_4 = interpreter.get_tensor(output_details[3][\"index\"])\n",
        "\n",
        "  result = [result_2,result_4,result_3,result_1]\n",
        "\n",
        "  # Assert if the result of TFLite model is consistent with the TF model.\n",
        "  np.testing.assert_almost_equal(expected, result, decimal=5)\n",
        "  print(\"Done. The result of TensorFlow matches the result of TensorFlow Lite.\")\n",
        "\n",
        "  # Please note: TfLite fused Lstm kernel is stateful, so we need to reset\n",
        "  # the states.\n",
        "  # Clean up internal states.\n",
        "  interpreter.reset_all_variables()"
      ],
      "metadata": {
        "colab": {
          "base_uri": "https://localhost:8080/"
        },
        "id": "RQe_BJae8fro",
        "outputId": "a81e3653-d5d9-421d-a3bf-0a62bcb79c95"
      },
      "execution_count": 72,
      "outputs": [
        {
          "output_type": "stream",
          "name": "stdout",
          "text": [
            "1/1 [==============================] - 0s 34ms/step\n",
            "Done. The result of TensorFlow matches the result of TensorFlow Lite.\n",
            "1/1 [==============================] - 0s 32ms/step\n",
            "Done. The result of TensorFlow matches the result of TensorFlow Lite.\n",
            "1/1 [==============================] - 0s 39ms/step\n",
            "Done. The result of TensorFlow matches the result of TensorFlow Lite.\n",
            "1/1 [==============================] - 0s 33ms/step\n",
            "Done. The result of TensorFlow matches the result of TensorFlow Lite.\n",
            "1/1 [==============================] - 0s 33ms/step\n",
            "Done. The result of TensorFlow matches the result of TensorFlow Lite.\n",
            "1/1 [==============================] - 0s 32ms/step\n",
            "Done. The result of TensorFlow matches the result of TensorFlow Lite.\n",
            "1/1 [==============================] - 0s 29ms/step\n",
            "Done. The result of TensorFlow matches the result of TensorFlow Lite.\n",
            "1/1 [==============================] - 0s 29ms/step\n",
            "Done. The result of TensorFlow matches the result of TensorFlow Lite.\n",
            "1/1 [==============================] - 0s 29ms/step\n",
            "Done. The result of TensorFlow matches the result of TensorFlow Lite.\n",
            "1/1 [==============================] - 0s 28ms/step\n",
            "Done. The result of TensorFlow matches the result of TensorFlow Lite.\n",
            "1/1 [==============================] - 0s 38ms/step\n",
            "Done. The result of TensorFlow matches the result of TensorFlow Lite.\n",
            "1/1 [==============================] - 0s 39ms/step\n",
            "Done. The result of TensorFlow matches the result of TensorFlow Lite.\n",
            "1/1 [==============================] - 0s 32ms/step\n",
            "Done. The result of TensorFlow matches the result of TensorFlow Lite.\n",
            "1/1 [==============================] - 0s 35ms/step\n",
            "Done. The result of TensorFlow matches the result of TensorFlow Lite.\n",
            "1/1 [==============================] - 0s 30ms/step\n",
            "Done. The result of TensorFlow matches the result of TensorFlow Lite.\n",
            "1/1 [==============================] - 0s 39ms/step\n",
            "Done. The result of TensorFlow matches the result of TensorFlow Lite.\n",
            "1/1 [==============================] - 0s 51ms/step\n",
            "Done. The result of TensorFlow matches the result of TensorFlow Lite.\n",
            "1/1 [==============================] - 0s 59ms/step\n",
            "Done. The result of TensorFlow matches the result of TensorFlow Lite.\n",
            "1/1 [==============================] - 0s 55ms/step\n",
            "Done. The result of TensorFlow matches the result of TensorFlow Lite.\n",
            "1/1 [==============================] - 0s 55ms/step\n",
            "Done. The result of TensorFlow matches the result of TensorFlow Lite.\n",
            "1/1 [==============================] - 0s 55ms/step\n",
            "Done. The result of TensorFlow matches the result of TensorFlow Lite.\n",
            "1/1 [==============================] - 0s 87ms/step\n",
            "Done. The result of TensorFlow matches the result of TensorFlow Lite.\n",
            "1/1 [==============================] - 0s 99ms/step\n",
            "Done. The result of TensorFlow matches the result of TensorFlow Lite.\n",
            "1/1 [==============================] - 0s 62ms/step\n",
            "Done. The result of TensorFlow matches the result of TensorFlow Lite.\n",
            "1/1 [==============================] - 0s 68ms/step\n",
            "Done. The result of TensorFlow matches the result of TensorFlow Lite.\n",
            "1/1 [==============================] - 0s 77ms/step\n",
            "Done. The result of TensorFlow matches the result of TensorFlow Lite.\n",
            "1/1 [==============================] - 0s 67ms/step\n",
            "Done. The result of TensorFlow matches the result of TensorFlow Lite.\n",
            "1/1 [==============================] - 0s 70ms/step\n",
            "Done. The result of TensorFlow matches the result of TensorFlow Lite.\n",
            "1/1 [==============================] - 0s 62ms/step\n",
            "Done. The result of TensorFlow matches the result of TensorFlow Lite.\n",
            "1/1 [==============================] - 0s 72ms/step\n",
            "Done. The result of TensorFlow matches the result of TensorFlow Lite.\n",
            "1/1 [==============================] - 0s 29ms/step\n",
            "Done. The result of TensorFlow matches the result of TensorFlow Lite.\n",
            "1/1 [==============================] - 0s 35ms/step\n",
            "Done. The result of TensorFlow matches the result of TensorFlow Lite.\n",
            "1/1 [==============================] - 0s 29ms/step\n",
            "Done. The result of TensorFlow matches the result of TensorFlow Lite.\n",
            "1/1 [==============================] - 0s 32ms/step\n",
            "Done. The result of TensorFlow matches the result of TensorFlow Lite.\n",
            "1/1 [==============================] - 0s 28ms/step\n",
            "Done. The result of TensorFlow matches the result of TensorFlow Lite.\n",
            "1/1 [==============================] - 0s 48ms/step\n",
            "Done. The result of TensorFlow matches the result of TensorFlow Lite.\n",
            "1/1 [==============================] - 0s 30ms/step\n",
            "Done. The result of TensorFlow matches the result of TensorFlow Lite.\n",
            "1/1 [==============================] - 0s 31ms/step\n",
            "Done. The result of TensorFlow matches the result of TensorFlow Lite.\n",
            "1/1 [==============================] - 0s 29ms/step\n",
            "Done. The result of TensorFlow matches the result of TensorFlow Lite.\n",
            "1/1 [==============================] - 0s 28ms/step\n",
            "Done. The result of TensorFlow matches the result of TensorFlow Lite.\n",
            "1/1 [==============================] - 0s 29ms/step\n",
            "Done. The result of TensorFlow matches the result of TensorFlow Lite.\n",
            "1/1 [==============================] - 0s 29ms/step\n",
            "Done. The result of TensorFlow matches the result of TensorFlow Lite.\n",
            "1/1 [==============================] - 0s 24ms/step\n",
            "Done. The result of TensorFlow matches the result of TensorFlow Lite.\n",
            "1/1 [==============================] - 0s 21ms/step\n",
            "Done. The result of TensorFlow matches the result of TensorFlow Lite.\n",
            "1/1 [==============================] - 0s 24ms/step\n",
            "Done. The result of TensorFlow matches the result of TensorFlow Lite.\n",
            "1/1 [==============================] - 0s 27ms/step\n",
            "Done. The result of TensorFlow matches the result of TensorFlow Lite.\n",
            "1/1 [==============================] - 0s 25ms/step\n",
            "Done. The result of TensorFlow matches the result of TensorFlow Lite.\n",
            "1/1 [==============================] - 0s 24ms/step\n",
            "Done. The result of TensorFlow matches the result of TensorFlow Lite.\n",
            "1/1 [==============================] - 0s 25ms/step\n",
            "Done. The result of TensorFlow matches the result of TensorFlow Lite.\n",
            "1/1 [==============================] - 0s 23ms/step\n",
            "Done. The result of TensorFlow matches the result of TensorFlow Lite.\n",
            "1/1 [==============================] - 0s 20ms/step\n",
            "Done. The result of TensorFlow matches the result of TensorFlow Lite.\n",
            "1/1 [==============================] - 0s 24ms/step\n",
            "Done. The result of TensorFlow matches the result of TensorFlow Lite.\n",
            "1/1 [==============================] - 0s 20ms/step\n",
            "Done. The result of TensorFlow matches the result of TensorFlow Lite.\n",
            "1/1 [==============================] - 0s 20ms/step\n",
            "Done. The result of TensorFlow matches the result of TensorFlow Lite.\n",
            "1/1 [==============================] - 0s 21ms/step\n",
            "Done. The result of TensorFlow matches the result of TensorFlow Lite.\n",
            "1/1 [==============================] - 0s 21ms/step\n",
            "Done. The result of TensorFlow matches the result of TensorFlow Lite.\n",
            "1/1 [==============================] - 0s 21ms/step\n",
            "Done. The result of TensorFlow matches the result of TensorFlow Lite.\n",
            "1/1 [==============================] - 0s 23ms/step\n",
            "Done. The result of TensorFlow matches the result of TensorFlow Lite.\n",
            "1/1 [==============================] - 0s 22ms/step\n",
            "Done. The result of TensorFlow matches the result of TensorFlow Lite.\n",
            "1/1 [==============================] - 0s 23ms/step\n",
            "Done. The result of TensorFlow matches the result of TensorFlow Lite.\n",
            "1/1 [==============================] - 0s 31ms/step\n",
            "Done. The result of TensorFlow matches the result of TensorFlow Lite.\n",
            "1/1 [==============================] - 0s 27ms/step\n",
            "Done. The result of TensorFlow matches the result of TensorFlow Lite.\n",
            "1/1 [==============================] - 0s 22ms/step\n",
            "Done. The result of TensorFlow matches the result of TensorFlow Lite.\n",
            "1/1 [==============================] - 0s 22ms/step\n",
            "Done. The result of TensorFlow matches the result of TensorFlow Lite.\n",
            "1/1 [==============================] - 0s 21ms/step\n",
            "Done. The result of TensorFlow matches the result of TensorFlow Lite.\n",
            "1/1 [==============================] - 0s 19ms/step\n",
            "Done. The result of TensorFlow matches the result of TensorFlow Lite.\n",
            "1/1 [==============================] - 0s 19ms/step\n",
            "Done. The result of TensorFlow matches the result of TensorFlow Lite.\n",
            "1/1 [==============================] - 0s 21ms/step\n",
            "Done. The result of TensorFlow matches the result of TensorFlow Lite.\n",
            "1/1 [==============================] - 0s 20ms/step\n",
            "Done. The result of TensorFlow matches the result of TensorFlow Lite.\n",
            "1/1 [==============================] - 0s 20ms/step\n",
            "Done. The result of TensorFlow matches the result of TensorFlow Lite.\n",
            "1/1 [==============================] - 0s 19ms/step\n",
            "Done. The result of TensorFlow matches the result of TensorFlow Lite.\n",
            "1/1 [==============================] - 0s 21ms/step\n",
            "Done. The result of TensorFlow matches the result of TensorFlow Lite.\n",
            "1/1 [==============================] - 0s 20ms/step\n",
            "Done. The result of TensorFlow matches the result of TensorFlow Lite.\n",
            "1/1 [==============================] - 0s 22ms/step\n",
            "Done. The result of TensorFlow matches the result of TensorFlow Lite.\n",
            "1/1 [==============================] - 0s 19ms/step\n",
            "Done. The result of TensorFlow matches the result of TensorFlow Lite.\n",
            "1/1 [==============================] - 0s 21ms/step\n",
            "Done. The result of TensorFlow matches the result of TensorFlow Lite.\n",
            "1/1 [==============================] - 0s 25ms/step\n",
            "Done. The result of TensorFlow matches the result of TensorFlow Lite.\n",
            "1/1 [==============================] - 0s 22ms/step\n",
            "Done. The result of TensorFlow matches the result of TensorFlow Lite.\n",
            "1/1 [==============================] - 0s 18ms/step\n",
            "Done. The result of TensorFlow matches the result of TensorFlow Lite.\n",
            "1/1 [==============================] - 0s 18ms/step\n",
            "Done. The result of TensorFlow matches the result of TensorFlow Lite.\n",
            "1/1 [==============================] - 0s 23ms/step\n",
            "Done. The result of TensorFlow matches the result of TensorFlow Lite.\n",
            "1/1 [==============================] - 0s 19ms/step\n",
            "Done. The result of TensorFlow matches the result of TensorFlow Lite.\n",
            "1/1 [==============================] - 0s 20ms/step\n",
            "Done. The result of TensorFlow matches the result of TensorFlow Lite.\n",
            "1/1 [==============================] - 0s 18ms/step\n",
            "Done. The result of TensorFlow matches the result of TensorFlow Lite.\n",
            "1/1 [==============================] - 0s 20ms/step\n",
            "Done. The result of TensorFlow matches the result of TensorFlow Lite.\n",
            "1/1 [==============================] - 0s 21ms/step\n",
            "Done. The result of TensorFlow matches the result of TensorFlow Lite.\n",
            "1/1 [==============================] - 0s 21ms/step\n",
            "Done. The result of TensorFlow matches the result of TensorFlow Lite.\n",
            "1/1 [==============================] - 0s 19ms/step\n",
            "Done. The result of TensorFlow matches the result of TensorFlow Lite.\n",
            "1/1 [==============================] - 0s 21ms/step\n",
            "Done. The result of TensorFlow matches the result of TensorFlow Lite.\n",
            "1/1 [==============================] - 0s 22ms/step\n",
            "Done. The result of TensorFlow matches the result of TensorFlow Lite.\n",
            "1/1 [==============================] - 0s 22ms/step\n",
            "Done. The result of TensorFlow matches the result of TensorFlow Lite.\n",
            "1/1 [==============================] - 0s 19ms/step\n",
            "Done. The result of TensorFlow matches the result of TensorFlow Lite.\n",
            "1/1 [==============================] - 0s 18ms/step\n",
            "Done. The result of TensorFlow matches the result of TensorFlow Lite.\n",
            "1/1 [==============================] - 0s 19ms/step\n",
            "Done. The result of TensorFlow matches the result of TensorFlow Lite.\n",
            "1/1 [==============================] - 0s 21ms/step\n",
            "Done. The result of TensorFlow matches the result of TensorFlow Lite.\n",
            "1/1 [==============================] - 0s 33ms/step\n",
            "Done. The result of TensorFlow matches the result of TensorFlow Lite.\n",
            "1/1 [==============================] - 0s 21ms/step\n",
            "Done. The result of TensorFlow matches the result of TensorFlow Lite.\n",
            "1/1 [==============================] - 0s 23ms/step\n",
            "Done. The result of TensorFlow matches the result of TensorFlow Lite.\n",
            "1/1 [==============================] - 0s 22ms/step\n",
            "Done. The result of TensorFlow matches the result of TensorFlow Lite.\n",
            "1/1 [==============================] - 0s 23ms/step\n",
            "Done. The result of TensorFlow matches the result of TensorFlow Lite.\n"
          ]
        }
      ]
    },
    {
      "cell_type": "markdown",
      "source": [
        "# Check time with real data:"
      ],
      "metadata": {
        "id": "iPszxkxPPY-A"
      }
    },
    {
      "cell_type": "code",
      "source": [
        "%%timeit\n",
        "j = np.random.randint(0, x_test.shape[0]-1)\n",
        "expected = model.predict(np.expand_dims(x_test[j:j+1][0],axis=0),verbose=0)"
      ],
      "metadata": {
        "colab": {
          "base_uri": "https://localhost:8080/"
        },
        "id": "todNTKPE8_Ki",
        "outputId": "12bdff3d-4331-4ca0-af68-a0aefc3cf34a"
      },
      "execution_count": null,
      "outputs": [
        {
          "output_type": "stream",
          "name": "stdout",
          "text": [
            "66.7 ms ± 32.7 ms per loop (mean ± std. dev. of 7 runs, 10 loops each)\n"
          ]
        }
      ]
    },
    {
      "cell_type": "code",
      "source": [
        "%%timeit\n",
        "j = np.random.randint(0, x_test.shape[0]-1)\n",
        "interpreter.set_tensor(input_details[0][\"index\"], np.array(np.expand_dims(x_test[j:j+1][0],axis=0),dtype=np.float32))\n",
        "interpreter.invoke()\n",
        "result_1 = interpreter.get_tensor(output_details[0][\"index\"])\n",
        "result_2 = interpreter.get_tensor(output_details[1][\"index\"])\n",
        "result_3 = interpreter.get_tensor(output_details[2][\"index\"])\n",
        "result_4 = interpreter.get_tensor(output_details[3][\"index\"])\n",
        "result = [result_2,result_4,result_3,result_1]"
      ],
      "metadata": {
        "colab": {
          "base_uri": "https://localhost:8080/"
        },
        "id": "YjXPXniU9bcX",
        "outputId": "10d1b739-5a24-43ef-a0a4-5dcb7d964de5"
      },
      "execution_count": null,
      "outputs": [
        {
          "output_type": "stream",
          "name": "stdout",
          "text": [
            "418 µs ± 10.9 µs per loop (mean ± std. dev. of 7 runs, 1000 loops each)\n"
          ]
        }
      ]
    },
    {
      "cell_type": "code",
      "source": [
        "path"
      ],
      "metadata": {
        "colab": {
          "base_uri": "https://localhost:8080/",
          "height": 35
        },
        "id": "mpaYXnnT_Q7m",
        "outputId": "dca610e4-e86f-4aeb-e771-6b314740aeab"
      },
      "execution_count": 71,
      "outputs": [
        {
          "output_type": "execute_result",
          "data": {
            "text/plain": [
              "'/content/gdrive/MyDrive/'"
            ],
            "application/vnd.google.colaboratory.intrinsic+json": {
              "type": "string"
            }
          },
          "metadata": {},
          "execution_count": 71
        }
      ]
    },
    {
      "cell_type": "markdown",
      "source": [
        "# Save model in tflite:"
      ],
      "metadata": {
        "id": "PsI4ahAFPcX7"
      }
    },
    {
      "cell_type": "code",
      "source": [
        "# Save the model.\n",
        "with open(path + 'Yue_Net/best_model_cnn-allrun5_c8b_mix4-SG0-ST20-WS40-MU[0, 1, 2, 3]_1644222946_f.tflite', 'wb') as f:\n",
        "  f.write(tflite_model)"
      ],
      "metadata": {
        "id": "4QHXmDar9kGm"
      },
      "execution_count": null,
      "outputs": []
    },
    {
      "cell_type": "code",
      "source": [],
      "metadata": {
        "id": "DOuel3WXKMpv"
      },
      "execution_count": null,
      "outputs": []
    }
  ]
}